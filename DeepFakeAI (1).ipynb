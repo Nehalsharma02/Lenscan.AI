{
  "nbformat": 4,
  "nbformat_minor": 0,
  "metadata": {
    "colab": {
      "provenance": []
    },
    "kernelspec": {
      "name": "python3",
      "display_name": "Python 3"
    },
    "language_info": {
      "name": "python"
    }
  },
  "cells": [
    {
      "cell_type": "code",
      "source": [
        "import cv2\n",
        "import numpy as np\n",
        "from google.colab import files\n",
        "from IPython.display import display, Image\n",
        "import matplotlib.pyplot as plt\n",
        "\n"
      ],
      "metadata": {
        "id": "CIvI-K48On17"
      },
      "execution_count": 1,
      "outputs": []
    },
    {
      "cell_type": "code",
      "source": [
        "# Function to detect deepfake in a video\n",
        "def detect_video_deepfake(video_path):\n",
        "    video = cv2.VideoCapture(video_path)\n",
        "    frames = []\n",
        "    while True:\n",
        "        ret, frame = video.read()\n",
        "        if not ret:\n",
        "            break\n",
        "        frames.append(cv2.resize(frame, (224, 224)))  # Assuming the model takes input size (224, 224))\n",
        "    video.release()\n",
        "\n",
        "    frames = np.array(frames)\n",
        "    frames = frames / 255.\n",
        "\n",
        "    # Example: Simple rule-based detection based on frame analysis\n",
        "    # You would need a more sophisticated method for real deepfake detection\n",
        "    is_deepfake = True\n",
        "    if len(frames) > 1000:  # Example: If the video is longer than 1000 frames, classify as deepfake\n",
        "        is_deepfake = False\n",
        "\n",
        "    return is_deepfake\n"
      ],
      "metadata": {
        "id": "yhmMJmIIRagY"
      },
      "execution_count": 2,
      "outputs": []
    },
    {
      "cell_type": "code",
      "source": [
        "\n",
        "# Function to detect deepfake in an image using computer vision techniques\n",
        "def detect_image_deepfake(image):\n",
        "    # Convert image to grayscale\n",
        "    gray = cv2.cvtColor(image, cv2.COLOR_RGB2GRAY)\n",
        "\n",
        "    # Calculate variance of Laplacian\n",
        "    variance = cv2.Laplacian(gray, cv2.CV_64F).var()\n",
        "\n",
        "    # Example threshold for variance\n",
        "    threshold = 100\n",
        "    if variance < threshold:\n",
        "        return True  # If variance is low, likely a deepfake\n",
        "    else:\n",
        "        return False  # If variance is high, likely not a deepfake\n",
        "\n"
      ],
      "metadata": {
        "id": "jzg8A9tbRgM8"
      },
      "execution_count": 3,
      "outputs": []
    },
    {
      "cell_type": "code",
      "source": [
        "# Main function for Colab\n",
        "def main():\n",
        "    option = input(\"Choose an option (Image/Video): \")\n",
        "\n",
        "    if option.lower() == \"image\":\n",
        "        print(\"Detect Deepfake in Image\")\n",
        "        uploaded = files.upload()\n",
        "\n",
        "        if uploaded:\n",
        "            image_path = next(iter(uploaded))\n",
        "            image = cv2.imread(image_path)\n",
        "            image_rgb = cv2.cvtColor(image, cv2.COLOR_BGR2RGB)\n",
        "            plt.imshow(image_rgb)\n",
        "            plt.title(\"Uploaded Image\")\n",
        "            plt.axis(\"off\")\n",
        "            plt.show()\n",
        "\n",
        "            is_deepfake = detect_image_deepfake(image_rgb)\n",
        "            print(\"Is the image a deepfake?\", is_deepfake)\n",
        "\n",
        "    elif option.lower() == \"video\":\n",
        "        print(\"Detect Deepfake in Video\")\n",
        "        uploaded = files.upload()\n",
        "\n",
        "        if uploaded:\n",
        "            video_path = next(iter(uploaded))\n",
        "            is_deepfake_video = detect_video_deepfake(video_path)\n",
        "            print(\"Is the video a deepfake?\", is_deepfake_video)\n",
        "\n",
        "if __name__ == \"__main__\":\n",
        "    main()\n"
      ],
      "metadata": {
        "id": "pKCKjHF7RjzK"
      },
      "execution_count": null,
      "outputs": []
    }
  ]
}